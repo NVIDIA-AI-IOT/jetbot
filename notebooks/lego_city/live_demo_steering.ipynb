{
 "cells": [
  {
   "cell_type": "code",
   "execution_count": 1,
   "metadata": {},
   "outputs": [],
   "source": [
    "import traitlets\n",
    "import ipywidgets.widgets as widgets\n",
    "from IPython.display import display\n",
    "from jetbot import Camera, Robot, bgr8_to_jpeg\n",
    "import torchvision\n",
    "import torch\n",
    "import torchvision.transforms as transforms\n",
    "import cv2\n",
    "import PIL.Image\n",
    "import os\n",
    "import torch.nn.functional as F"
   ]
  },
  {
   "cell_type": "code",
   "execution_count": 2,
   "metadata": {},
   "outputs": [
    {
     "data": {
      "application/vnd.jupyter.widget-view+json": {
       "model_id": "fd748bb4abee4c4098fdf6462828aac7",
       "version_major": 2,
       "version_minor": 0
      },
      "text/plain": [
       "Image(value=b'\\xff\\xd8\\xff\\xe0\\x00\\x10JFIF\\x00\\x01\\x01\\x00\\x00\\x01\\x00\\x01\\x00\\x00\\xff\\xdb\\x00C\\x00\\x02\\x01\\x0…"
      ]
     },
     "metadata": {},
     "output_type": "display_data"
    }
   ],
   "source": [
    "camera = Camera.instance(width=224, height=224)\n",
    "\n",
    "image_widget = widgets.Image(format='jpeg', width=224, height=224)\n",
    "\n",
    "traitlets.dlink((camera, 'value'), (image_widget, 'value'), transform=bgr8_to_jpeg)\n",
    "\n",
    "display(image_widget)"
   ]
  },
  {
   "cell_type": "markdown",
   "metadata": {},
   "source": [
    "### Collision models"
   ]
  },
  {
   "cell_type": "code",
   "execution_count": 26,
   "metadata": {},
   "outputs": [],
   "source": [
    "model_col = torchvision.models.resnet18(pretrained=False)\n",
    "model_col.fc = torch.nn.Linear(512, 2)\n",
    "model_col.load_state_dict(torch.load('best_model_collision.pth'))\n",
    "device = torch.device('cuda')\n",
    "model_col = model_col.to(device)\n",
    "model_col = model_col.eval()"
   ]
  },
  {
   "cell_type": "markdown",
   "metadata": {},
   "source": [
    "### Forward model"
   ]
  },
  {
   "cell_type": "code",
   "execution_count": 25,
   "metadata": {},
   "outputs": [],
   "source": [
    "model_forward = torchvision.models.resnet18(pretrained=False)\n",
    "model_forward.fc = torch.nn.Linear(512, 1)\n",
    "model_forward.load_state_dict(torch.load('best_steering_model_forward_merged.pth'))\n",
    "device = torch.device('cuda')\n",
    "model_forward = model_forward.to(device)\n",
    "model_forward = model_forward.eval()"
   ]
  },
  {
   "cell_type": "markdown",
   "metadata": {},
   "source": [
    "### Left model"
   ]
  },
  {
   "cell_type": "code",
   "execution_count": 4,
   "metadata": {},
   "outputs": [],
   "source": [
    "model_left = torchvision.models.resnet18(pretrained=False)\n",
    "model_left.fc = torch.nn.Linear(512, 1)\n",
    "model_left.load_state_dict(torch.load('best_steering_model_left_merged.pth'))\n",
    "device = torch.device('cuda')\n",
    "model_left = model_left.to(device)\n",
    "model_left = model_left.eval()"
   ]
  },
  {
   "cell_type": "markdown",
   "metadata": {},
   "source": [
    "### Right model"
   ]
  },
  {
   "cell_type": "code",
   "execution_count": 5,
   "metadata": {},
   "outputs": [],
   "source": [
    "model_right = torchvision.models.resnet18(pretrained=False)\n",
    "model_right.fc = torch.nn.Linear(512, 1)\n",
    "model_right.load_state_dict(torch.load('best_steering_model_right_merged.pth'))\n",
    "device = torch.device('cuda')\n",
    "model_right = model_right.to(device)\n",
    "model_right = model_right.eval()"
   ]
  },
  {
   "cell_type": "code",
   "execution_count": 6,
   "metadata": {},
   "outputs": [],
   "source": [
    "def preprocess(image):\n",
    "    image = cv2.cvtColor(image, cv2.COLOR_BGR2RGB)\n",
    "    image = PIL.Image.fromarray(image)\n",
    "    #image = transforms.functional.to_grayscale(image, num_output_channels=3)\n",
    "    #image = transforms.functional.resized_crop(image, crop_percent * 224, 0, 224 - crop_percent * 224, 224, (224, 224))\n",
    "    image = transforms.functional.to_tensor(image)\n",
    "    image = transforms.functional.normalize(image, [0.485, 0.456, 0.406], [0.229, 0.224, 0.225])\n",
    "    return image[None, ...].to(device)"
   ]
  },
  {
   "cell_type": "code",
   "execution_count": 7,
   "metadata": {},
   "outputs": [
    {
     "data": {
      "application/vnd.jupyter.widget-view+json": {
       "model_id": "b820063035b74758b162eadc11b33ae9",
       "version_major": 2,
       "version_minor": 0
      },
      "text/plain": [
       "FloatSlider(value=0.0, description='steering', max=1.0, min=-1.0)"
      ]
     },
     "metadata": {},
     "output_type": "display_data"
    }
   ],
   "source": [
    "steering_slider = widgets.FloatSlider(min=-1.0, max=1.0, value=0.0, description='steering')\n",
    "\n",
    "display(steering_slider)"
   ]
  },
  {
   "cell_type": "code",
   "execution_count": 8,
   "metadata": {},
   "outputs": [
    {
     "data": {
      "application/vnd.jupyter.widget-view+json": {
       "model_id": "beb4bb007f9148e5ad0e405f2ba21932",
       "version_major": 2,
       "version_minor": 0
      },
      "text/plain": [
       "FloatSlider(value=0.22, description='speed', max=1.0, step=0.001)"
      ]
     },
     "metadata": {},
     "output_type": "display_data"
    },
    {
     "data": {
      "application/vnd.jupyter.widget-view+json": {
       "model_id": "d8eabb8149ee41d0a0feda5ce3130c8b",
       "version_major": 2,
       "version_minor": 0
      },
      "text/plain": [
       "FloatSlider(value=0.0, description='bias', max=0.3, min=-0.3, step=0.0001)"
      ]
     },
     "metadata": {},
     "output_type": "display_data"
    }
   ],
   "source": [
    "speed_slider = widgets.FloatSlider(min=0.0, max=1.0, step=0.001, value=0.22, description='speed')\n",
    "steering_bias = widgets.FloatSlider(min=-0.3, max=0.3, step=0.0001, value=0.0, description='bias')\n",
    "\n",
    "display(speed_slider)\n",
    "display(steering_bias)"
   ]
  },
  {
   "cell_type": "code",
   "execution_count": 9,
   "metadata": {},
   "outputs": [],
   "source": [
    "from jetbot import Robot\n",
    "\n",
    "robot = Robot()"
   ]
  },
  {
   "cell_type": "code",
   "execution_count": 10,
   "metadata": {},
   "outputs": [
    {
     "data": {
      "application/vnd.jupyter.widget-view+json": {
       "model_id": "d927305ee23748df8bf3992ef9f48ece",
       "version_major": 2,
       "version_minor": 0
      },
      "text/plain": [
       "FloatSlider(value=0.4, description='kp', max=1.0, step=0.001)"
      ]
     },
     "metadata": {},
     "output_type": "display_data"
    },
    {
     "data": {
      "application/vnd.jupyter.widget-view+json": {
       "model_id": "51b9bc901d80416ab4fed18d2b975984",
       "version_major": 2,
       "version_minor": 0
      },
      "text/plain": [
       "FloatSlider(value=0.37, description='kd', max=1.0, step=0.001)"
      ]
     },
     "metadata": {},
     "output_type": "display_data"
    }
   ],
   "source": [
    "kp = widgets.FloatSlider(min=0.0, max=1.0, step=0.001, value=0.4, description='kp')\n",
    "kd = widgets.FloatSlider(min=0.0, max=1.0, step=0.001, value=0.37, description='kd')\n",
    "\n",
    "display(kp, kd)"
   ]
  },
  {
   "cell_type": "markdown",
   "metadata": {},
   "source": [
    "## Turn signal"
   ]
  },
  {
   "cell_type": "code",
   "execution_count": 19,
   "metadata": {},
   "outputs": [],
   "source": [
    "robot.right_motor.alpha = -1.0\n",
    "robot.left_motor.alpha = -1.0"
   ]
  },
  {
   "cell_type": "code",
   "execution_count": 11,
   "metadata": {},
   "outputs": [
    {
     "data": {
      "application/vnd.jupyter.widget-view+json": {
       "model_id": "8a0f9678b29643ddb58e04484dffd784",
       "version_major": 2,
       "version_minor": 0
      },
      "text/plain": [
       "ToggleButtons(options=('left', 'forward', 'right'), value='left')"
      ]
     },
     "metadata": {},
     "output_type": "display_data"
    }
   ],
   "source": [
    "turn_signal_map = {\n",
    "    'forward': 0,\n",
    "    'left': 1,\n",
    "    'right': 2\n",
    "}\n",
    "\n",
    "turn_signal = widgets.ToggleButtons(\n",
    "    options=['left', 'forward', 'right'],\n",
    "    disabled=False,\n",
    "    button_style='', # 'success', 'info', 'warning', 'danger' or ''\n",
    ")\n",
    "display(turn_signal)"
   ]
  },
  {
   "cell_type": "markdown",
   "metadata": {},
   "source": [
    "## Blocks display"
   ]
  },
  {
   "cell_type": "code",
   "execution_count": 12,
   "metadata": {},
   "outputs": [
    {
     "data": {
      "application/vnd.jupyter.widget-view+json": {
       "model_id": "2f2a58858c204e0db9cae0cd1f771c30",
       "version_major": 2,
       "version_minor": 0
      },
      "text/plain": [
       "HBox(children=(VBox(children=(Image(value=b'\\xff\\xd8\\xff\\xe0\\x00\\x10JFIF\\x00\\x01\\x01\\x01\\x00`\\x00`\\x00\\x00\\xff…"
      ]
     },
     "metadata": {},
     "output_type": "display_data"
    }
   ],
   "source": [
    "THUMBNAIL_DIR = 'thumbnails'\n",
    "\n",
    "class_names = [\n",
    "    'cross',\n",
    "    'left',\n",
    "    'right',\n",
    "    'straight',\n",
    "    't_left',\n",
    "    't_right',\n",
    "    't_straight'\n",
    "]\n",
    "\n",
    "\n",
    "# create thumbnail widgets\n",
    "class_widgets = []\n",
    "prob_widgets = []\n",
    "for i, name in enumerate(class_names):\n",
    "    \n",
    "    # get thumbnail widget\n",
    "    thumbnail_widget = widgets.Image(format='jpeg', width=80, height=80)\n",
    "    thumbnail_path = os.path.join(THUMBNAIL_DIR, name + '.jpg')\n",
    "    with open(thumbnail_path, 'rb') as f:\n",
    "        thumbnail_widget.value = f.read()\n",
    "    \n",
    "    # get count widget\n",
    "    prob_widget = widgets.FloatSlider(min=0.0, max=1.0, step=0.001, orientation='vertical')\n",
    "    prob_widgets.append(prob_widget)\n",
    "    \n",
    "    class_widget = widgets.VBox([\n",
    "        thumbnail_widget,\n",
    "        prob_widget\n",
    "    ])\n",
    "    class_widgets.append(class_widget)\n",
    "\n",
    "display(widgets.HBox(class_widgets))"
   ]
  },
  {
   "cell_type": "code",
   "execution_count": 13,
   "metadata": {},
   "outputs": [
    {
     "data": {
      "application/vnd.jupyter.widget-view+json": {
       "model_id": "444cb6585ec0473aaf0533a9059b073c",
       "version_major": 2,
       "version_minor": 0
      },
      "text/plain": [
       "FloatSlider(value=0.001, description='transition', max=1.0)"
      ]
     },
     "metadata": {},
     "output_type": "display_data"
    }
   ],
   "source": [
    "transition_slider = widgets.FloatSlider(min=0.0, max=1.0, value=0.001, description='transition')\n",
    "display(transition_slider)"
   ]
  },
  {
   "cell_type": "code",
   "execution_count": 34,
   "metadata": {},
   "outputs": [],
   "source": [
    "error = 0.0\n",
    "error_last = 0.0\n",
    "\n",
    "def execute(change):\n",
    "    global error, error_last, error_i\n",
    "    image = change['new']\n",
    "    image = preprocess(image)\n",
    "    \n",
    "    output_col = F.softmax(model_col(image), dim=1).detach().cpu()\n",
    "    \n",
    "    # compute steering\n",
    "    if turn_signal.value == 'left':\n",
    "        output = model_left(image).detach().cpu()\n",
    "    elif turn_signal.value == 'right':\n",
    "        output = model_right(image).detach().cpu()\n",
    "    else:\n",
    "        output = model_forward(image).detach().cpu()\n",
    "        \n",
    "    steering = float(output[0][0]) + steering_bias.value\n",
    "    steering_slider.value = steering\n",
    "    \n",
    "    # compute error, derivative and integral\n",
    "    error = - steering\n",
    "    error_d = error - error_last\n",
    "    error_last = error\n",
    "    \n",
    "    pid_error = kp.value * error + kd.value * error_d\n",
    "    \n",
    "    speed = speed_slider.value\n",
    "    \n",
    "    if float(output_col.flatten()[0]) > 0.9:\n",
    "        robot.stop()\n",
    "    else:\n",
    "        robot.set_motors(\n",
    "            speed - pid_error,\n",
    "            speed + pid_error\n",
    "        )\n",
    "    \n",
    "execute({'new': camera.value})"
   ]
  },
  {
   "cell_type": "code",
   "execution_count": 35,
   "metadata": {},
   "outputs": [],
   "source": [
    "camera.observe(execute, names='value')"
   ]
  },
  {
   "cell_type": "code",
   "execution_count": 36,
   "metadata": {},
   "outputs": [],
   "source": [
    "import time\n",
    "\n",
    "camera.unobserve_all()\n",
    "time.sleep(0.5)\n",
    "robot.stop()"
   ]
  },
  {
   "cell_type": "code",
   "execution_count": null,
   "metadata": {},
   "outputs": [],
   "source": [
    "display(image_widget)\n",
    "display(steering_slider)"
   ]
  }
 ],
 "metadata": {
  "kernelspec": {
   "display_name": "Python 3",
   "language": "python",
   "name": "python3"
  },
  "language_info": {
   "codemirror_mode": {
    "name": "ipython",
    "version": 3
   },
   "file_extension": ".py",
   "mimetype": "text/x-python",
   "name": "python",
   "nbconvert_exporter": "python",
   "pygments_lexer": "ipython3",
   "version": "3.6.7"
  }
 },
 "nbformat": 4,
 "nbformat_minor": 2
}
