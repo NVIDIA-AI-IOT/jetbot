{
 "cells": [
  {
   "cell_type": "markdown",
   "metadata": {},
   "source": [
    "# JetBot - Multi-Task Learning\n",
    "\n",
    "Before Starting this task, you need to complete following two tasks:\n",
    "1. Collect Data for Training multiple tasks, please use data_collection_multi_task.ipynb\n",
    "2. Train Model for multi-task learning - please use multi_task_training_model.ipynb\n",
    "\n",
    "We will use trained model \"best_model_adam.pth\" for inferernces"
   ]
  },
  {
   "cell_type": "markdown",
   "metadata": {},
   "source": [
    "## On JetBot"
   ]
  },
  {
   "cell_type": "markdown",
   "metadata": {},
   "source": [
    "Import all required libraries for Camera and Motor Interfacing, ResNet18 Inferences using Torch Libraries"
   ]
  },
  {
   "cell_type": "code",
   "execution_count": 1,
   "metadata": {},
   "outputs": [],
   "source": [
    "import torch\n",
    "import torchvision\n",
    "import torch.nn.functional as F"
   ]
  },
  {
   "cell_type": "code",
   "execution_count": 2,
   "metadata": {},
   "outputs": [],
   "source": [
    "device = torch.device('cuda')"
   ]
  },
  {
   "cell_type": "code",
   "execution_count": 3,
   "metadata": {
    "scrolled": true
   },
   "outputs": [],
   "source": [
    "model = torchvision.models.resnet18(pretrained=False)\n",
    "num_ftrs = model.fc.in_features\n",
    "model.fc = torch.nn.Linear(num_ftrs, 7)\n",
    "model.load_state_dict(torch.load('best_model_adam.pth'))\n",
    "model = model.eval()\n",
    "model = model.to(device).half()"
   ]
  },
  {
   "cell_type": "markdown",
   "metadata": {},
   "source": [
    "Let's display the robots live video feed.  We won't need fast framerates for this, so we'll lower the capturing framerate to 10FPS to reduce streaming bandwidth."
   ]
  },
  {
   "cell_type": "code",
   "execution_count": 4,
   "metadata": {},
   "outputs": [
    {
     "data": {
      "application/vnd.jupyter.widget-view+json": {
       "model_id": "74d0f8f39fc342269622fbdd6f939cad",
       "version_major": 2,
       "version_minor": 0
      },
      "text/plain": [
       "HBox(children=(Image(value=b'\\xff\\xd8\\xff\\xe0\\x00\\x10JFIF\\x00\\x01\\x01\\x00\\x00\\x01\\x00\\x01\\x00\\x00\\xff\\xdb\\x00C…"
      ]
     },
     "metadata": {},
     "output_type": "display_data"
    }
   ],
   "source": [
    "import traitlets\n",
    "from IPython.display import display\n",
    "import ipywidgets.widgets as widgets\n",
    "from jetbot.camera.opencv_gst_camera import OpencvGstCamera\n",
    "from jetbot.image import bgr8_to_jpeg\n",
    "\n",
    "camera = OpencvGstCamera.instance(width=224, height=224)\n",
    "image = widgets.Image(format='jpeg', width=224, height=224)\n",
    "\n",
    "camera_link = traitlets.dlink((camera, 'value'), (image, 'value'), transform=bgr8_to_jpeg)\n",
    "\n",
    "turn_slider = widgets.FloatSlider(descrption='turn', min=-1.0, max=1.0, step=0.01, orientation='horizontal')\n",
    "\n",
    "blocked_slider = widgets.FloatSlider(description='blocked', min=0.0, max=1.0, orientation='vertical')\n",
    "blocked_stop = widgets.FloatSlider(description='stop', min=0.0, max=1.0, orientation='vertical')\n",
    "\n",
    "\n",
    "display(widgets.HBox([image, blocked_slider, blocked_stop, turn_slider]))"
   ]
  },
  {
   "cell_type": "markdown",
   "metadata": {},
   "source": [
    "Following pre-processing is performed to normalize and convert to RGB incoming image"
   ]
  },
  {
   "cell_type": "code",
   "execution_count": 5,
   "metadata": {},
   "outputs": [],
   "source": [
    "import cv2\n",
    "import numpy as np\n",
    "\n",
    "mean = 255.0 * np.array([0.485, 0.456, 0.406])\n",
    "stdev = 255.0 * np.array([0.229, 0.224, 0.225])\n",
    "\n",
    "normalize = torchvision.transforms.Normalize(mean, stdev)\n",
    "\n",
    "def preprocess(camera_value):\n",
    "    global device, normalize\n",
    "    x = camera_value\n",
    "    x = cv2.cvtColor(x, cv2.COLOR_BGR2RGB)\n",
    "    x = x.transpose((2, 0, 1))\n",
    "    x = torch.from_numpy(x).float()\n",
    "    x = normalize(x)\n",
    "    x = x.to(device)\n",
    "    x = x[None, ...]\n",
    "    return x.half()"
   ]
  },
  {
   "cell_type": "markdown",
   "metadata": {},
   "source": [
    "In a seperate thread, we'll continuously run the neural network on the camera feed."
   ]
  },
  {
   "cell_type": "code",
   "execution_count": 6,
   "metadata": {},
   "outputs": [],
   "source": [
    "from jetbot.robot.basic_jetbot import BasicJetbot\n",
    "\n",
    "robot = BasicJetbot()"
   ]
  },
  {
   "cell_type": "code",
   "execution_count": 7,
   "metadata": {},
   "outputs": [],
   "source": [
    "def get_steering(y):\n",
    "    z = y.cpu().float().flatten()[0:3]\n",
    "    return torch.sum(z * torch.Tensor([-1.0, 0.0, 1.0])) / z.sum()"
   ]
  },
  {
   "cell_type": "markdown",
   "metadata": {},
   "source": [
    "Control Options for Speed, Steeering Gain, and IIR Filter "
   ]
  },
  {
   "cell_type": "code",
   "execution_count": 8,
   "metadata": {},
   "outputs": [
    {
     "data": {
      "application/vnd.jupyter.widget-view+json": {
       "model_id": "db0f7dc6b16d4111a55eaef387fdaba7",
       "version_major": 2,
       "version_minor": 0
      },
      "text/plain": [
       "FloatSlider(value=0.22, description='speed', max=1.0, step=0.01)"
      ]
     },
     "metadata": {},
     "output_type": "display_data"
    },
    {
     "data": {
      "application/vnd.jupyter.widget-view+json": {
       "model_id": "1b1b693503b14851aeae231865cab3e6",
       "version_major": 2,
       "version_minor": 0
      },
      "text/plain": [
       "FloatSlider(value=0.2, description='gain', max=1.0, step=0.01)"
      ]
     },
     "metadata": {},
     "output_type": "display_data"
    },
    {
     "data": {
      "application/vnd.jupyter.widget-view+json": {
       "model_id": "730d2c15080c40e2aa07784f6ca4b85d",
       "version_major": 2,
       "version_minor": 0
      },
      "text/plain": [
       "FloatSlider(value=0.15, description='iir', max=1.0, step=0.01)"
      ]
     },
     "metadata": {},
     "output_type": "display_data"
    }
   ],
   "source": [
    "speed_slider = widgets.FloatSlider(description='speed', min=0.0, max=1.0, step=0.01, value=0.22)\n",
    "steering_gain_slider = widgets.FloatSlider(description='gain', min = 0.0, max=1.0, step=0.01, value=0.20)\n",
    "iir_filter_slider = widgets.FloatSlider(description='iir', min=0.0, max=1.0, step=0.01, value=0.15)\n",
    "display(speed_slider)\n",
    "display(steering_gain_slider)\n",
    "display(iir_filter_slider)"
   ]
  },
  {
   "cell_type": "markdown",
   "metadata": {},
   "source": [
    "Following Slider will help you to control Stopping time at Intersection"
   ]
  },
  {
   "cell_type": "code",
   "execution_count": 9,
   "metadata": {},
   "outputs": [
    {
     "data": {
      "application/vnd.jupyter.widget-view+json": {
       "model_id": "17eb2fca57ca4c22b9274e46a51e9a64",
       "version_major": 2,
       "version_minor": 0
      },
      "text/plain": [
       "FloatSlider(value=1.0, description='stopping time', max=5.0, style=SliderStyle(description_width='initial'))"
      ]
     },
     "metadata": {},
     "output_type": "display_data"
    }
   ],
   "source": [
    "style = {'description_width': 'initial'}\n",
    "stopping_time_slider = widgets.FloatSlider(description='stopping time', min=0.0, max=5.0, step=0.1, value=1.0, style = style)\n",
    "display(stopping_time_slider)"
   ]
  },
  {
   "cell_type": "markdown",
   "metadata": {},
   "source": [
    "Control Options to Set JetBot Directions"
   ]
  },
  {
   "cell_type": "code",
   "execution_count": 10,
   "metadata": {},
   "outputs": [
    {
     "data": {
      "application/vnd.jupyter.widget-view+json": {
       "model_id": "ca4e18a3776c41d2b60dd4f066331be4",
       "version_major": 2,
       "version_minor": 0
      },
      "text/plain": [
       "ToggleButtons(description='JetBot Direction:', index=1, options=('Right', 'Forward', 'Left'), style=ToggleButt…"
      ]
     },
     "metadata": {},
     "output_type": "display_data"
    }
   ],
   "source": [
    "switch_slider = widgets.ToggleButtons(\n",
    "    options=['Right', 'Forward', 'Left'],\n",
    "    description='JetBot Direction:',\n",
    "    disabled=False,\n",
    "    button_style='', # 'success', 'info', 'warning', 'danger' or ''\n",
    "    tooltips=['Description of slow', 'Description of regular', 'Description of fast'],\n",
    "#     icons=['check'] * 3\n",
    "    style = style,\n",
    "    value = 'Forward'\n",
    ")\n",
    "display(switch_slider)"
   ]
  },
  {
   "cell_type": "markdown",
   "metadata": {},
   "source": [
    "Following code snippet will help you control robot states. We currently have 4 robot states mainly for Follow road, Stop JetBot, and for turning JetBot Right or Left."
   ]
  },
  {
   "cell_type": "code",
   "execution_count": 23,
   "metadata": {},
   "outputs": [],
   "source": [
    "# Import State Machine Library to control robot states\n",
    "# To install State Machine Library: $python3 -m pip install python-statemachine\n",
    "from statemachine import StateMachine, State\n",
    "import time\n",
    "\n",
    "class RobotControl(StateMachine):\n",
    "    RunJetbot = State ('run_robot', initial = True)\n",
    "    StopJetbot = State ('stop_robot')\n",
    "    TurnRightJetbot = State ('turn_right_robot')\n",
    "    TurnLeftJetbot = State ('turn_left_robot')\n",
    "    \n",
    "    slowdown = RunJetbot.to(StopJetbot) | TurnRightJetbot.to(StopJetbot) | TurnLeftJetbot.to(StopJetbot) | StopJetbot.to.itself()\n",
    "    go = StopJetbot.to(RunJetbot) | TurnRightJetbot.to(RunJetbot) | TurnLeftJetbot.to(RunJetbot)| RunJetbot.to.itself()\n",
    "    goRight = StopJetbot.to(TurnRightJetbot)\n",
    "    goLeft = StopJetbot.to(TurnLeftJetbot)\n",
    "    \n",
    "    global steering    \n",
    "    def on_slowdown(self):\n",
    "        robot.stop()\n",
    "        time.sleep(stopping_time_slider.value)\n",
    "    def on_goRight(self):\n",
    "        robot.forward(speed_slider.value)\n",
    "        time.sleep(2.3)\n",
    "        robot.right(speed_slider.value)\n",
    "        time.sleep(1.25)\n",
    "    def on_goLeft(self):\n",
    "        robot.forward(speed_slider.value)\n",
    "        time.sleep(2.3)\n",
    "        robot.left(speed_slider.value)\n",
    "        time.sleep(1.55)\n",
    "    def on_go(self, value):\n",
    "        global steering_last\n",
    "        steering_last = steering_last\n",
    "        steering = float(get_steering(value)) * float(1.0 - iir_filter_slider.value) + float(steering_last * iir_filter_slider.value)\n",
    "        turn_slider.value = steering\n",
    "        steering_last = steering\n",
    "        robot.set_motors(max(speed_slider.value + steering_gain_slider.value * steering, 0), \n",
    "                     max(speed_slider.value  - steering_gain_slider.value * steering, 0)\n",
    "        )\n",
    "    "
   ]
  },
  {
   "cell_type": "markdown",
   "metadata": {},
   "source": [
    "We will initialize inferences here to control the robot states.\n",
    "1. STOP: If Probility of Collison (prob_collision) and Probibilty of Crosswalk Detection (prob_crosswalk) is HIGH (> 0.65)\n",
    "2. RUN: If Probility of Collison (prob_collision) and Probibilty of Crosswalk Detection (prob_crosswalk) is LOW (< 0.65)\n",
    "    2A. Turn Right: If Switch Slider is on Right\n",
    "    2B. Turn Left: If Switch Slider is on Left"
   ]
  },
  {
   "cell_type": "code",
   "execution_count": 24,
   "metadata": {},
   "outputs": [],
   "source": [
    "robot_control = RobotControl()\n",
    "intersection_count = 0\n",
    "def execute_model(change):\n",
    "    global robot, turn_slider, model, iir_filter_slider, turn_slider, speed_slider\n",
    "    global intersection_count\n",
    "    x = change['new']\n",
    "    t1 = time.time()\n",
    "    x = preprocess(x)\n",
    "    y= model(x)\n",
    "    #steering = get_steering(y) * (1.0 - iir_filter_slider.value) + steering_last * iir_filter_slider.value\n",
    "    y_collision = F.softmax(y, dim=1)\n",
    "    prob_collision = float(y_collision.flatten()[3])    \n",
    "    blocked_slider.value = prob_collision\n",
    "    \n",
    "    prob_crosswalk = float(y_collision.flatten()[5])\n",
    "    blocked_stop.value = prob_crosswalk\n",
    "    \n",
    "    if prob_collision < 0.65 :\n",
    "        if prob_crosswalk < 0.8:\n",
    "            intersection_count = 0\n",
    "            robot_control.go(y)\n",
    "        else:\n",
    "            if (intersection_count == 0 and switch_slider.value == 'Forward'):\n",
    "                robot_control.slowdown()\n",
    "                intersection_count = 1\n",
    "            if (intersection_count == 0 and switch_slider.value == 'Right'):\n",
    "                robot_control.slowdown()\n",
    "                robot_control.goRight()\n",
    "                robot_control.go(y)\n",
    "                intersection_count = 1\n",
    "            if (intersection_count == 0 and switch_slider.value == 'Left'):\n",
    "                robot_control.slowdown()\n",
    "                robot_control.goLeft()\n",
    "                robot_control.go(y)\n",
    "                intersection_count = 1\n",
    "            else:\n",
    "                robot_control.go(y)  \n",
    "    else:\n",
    "        robot_control.slowdown()\n",
    "    \n",
    "    time.sleep(0.001)\n",
    "    \n",
    "execute_model({'new': camera.value})\n",
    "robot.stop()"
   ]
  },
  {
   "cell_type": "code",
   "execution_count": 25,
   "metadata": {},
   "outputs": [],
   "source": [
    "camera.observe(execute_model, names='value')  # call this to attach callback"
   ]
  },
  {
   "cell_type": "code",
   "execution_count": null,
   "metadata": {},
   "outputs": [],
   "source": [
    "camera.unobserve(execute_model, names='value')  # call this to un-attach callback"
   ]
  },
  {
   "cell_type": "code",
   "execution_count": 26,
   "metadata": {},
   "outputs": [],
   "source": [
    "camera.unobserve_all()"
   ]
  },
  {
   "cell_type": "code",
   "execution_count": 27,
   "metadata": {},
   "outputs": [],
   "source": [
    "robot.stop()"
   ]
  }
 ],
 "metadata": {
  "kernelspec": {
   "display_name": "Python 3",
   "language": "python",
   "name": "python3"
  },
  "language_info": {
   "codemirror_mode": {
    "name": "ipython",
    "version": 3
   },
   "file_extension": ".py",
   "mimetype": "text/x-python",
   "name": "python",
   "nbconvert_exporter": "python",
   "pygments_lexer": "ipython3",
   "version": "3.6.7"
  }
 },
 "nbformat": 4,
 "nbformat_minor": 2
}
