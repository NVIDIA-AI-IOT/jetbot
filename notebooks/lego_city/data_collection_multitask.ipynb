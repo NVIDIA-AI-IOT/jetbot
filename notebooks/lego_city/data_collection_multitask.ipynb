{
 "cells": [
  {
   "cell_type": "markdown",
   "metadata": {},
   "source": [
    "# JetBot - Lego City\n",
    "\n",
    "In this notebook we will collect dataset for three task namely:\n",
    "1. Road following\n",
    "2. Coliision Avoidance\n",
    "3. Crosswalk Detection\n",
    "\n",
    "We'll do the same thing we did before, but repeat it for moving forward through the intersection and collision avoidance.\n",
    "\n",
    "Once we've trained this model, it will enable robot to follwo road, avoid collisions and detect crosswalk!"
   ]
  },
  {
   "cell_type": "markdown",
   "metadata": {},
   "source": [
    "## On JetBot"
   ]
  },
  {
   "cell_type": "code",
   "execution_count": 1,
   "metadata": {},
   "outputs": [],
   "source": [
    "import traitlets\n",
    "from IPython.display import display\n",
    "import ipywidgets.widgets as widgets\n",
    "from jetbot.camera.opencv_gst_camera import OpencvGstCamera\n",
    "from jetbot.image import bgr8_to_jpeg\n",
    "\n"
   ]
  },
  {
   "cell_type": "code",
   "execution_count": 14,
   "metadata": {
    "scrolled": true
   },
   "outputs": [
    {
     "data": {
      "application/vnd.jupyter.widget-view+json": {
       "model_id": "c6c56aaea89d448db4b82cf4182aa54c",
       "version_major": 2,
       "version_minor": 0
      },
      "text/plain": [
       "Image(value=b'\\xff\\xd8\\xff\\xe0\\x00\\x10JFIF\\x00\\x01\\x01\\x00\\x00\\x01\\x00\\x01\\x00\\x00\\xff\\xdb\\x00C\\x00\\x02\\x01\\x0…"
      ]
     },
     "metadata": {},
     "output_type": "display_data"
    }
   ],
   "source": [
    "# create and start camera\n",
    "camera = OpencvGstCamera.instance(width=224, height=224)\n",
    "camera.start()\n",
    "\n",
    "# create, link, and display image\n",
    "image = widgets.Image(format='jpeg', width=224, height=224)\n",
    "\n",
    "camera_link = traitlets.dlink((camera, 'value'), (image, 'value'), transform=bgr8_to_jpeg)\n",
    "\n",
    "display(image)"
   ]
  },
  {
   "cell_type": "markdown",
   "metadata": {},
   "source": [
    "We will create folder named \"dataset_lego_city\" that will have three datasets namely:\n",
    "1. 'road_follower_dataset' folder for Road following task\n",
    "2. 'coliision_avoidance_dataset' folder for Coliision Avoidance task\n",
    "3. 'crosswalk_dataset' folder for Crosswalk Detection task"
   ]
  },
  {
   "cell_type": "code",
   "execution_count": 15,
   "metadata": {},
   "outputs": [
    {
     "data": {
      "application/vnd.jupyter.widget-view+json": {
       "model_id": "c6c56aaea89d448db4b82cf4182aa54c",
       "version_major": 2,
       "version_minor": 0
      },
      "text/plain": [
       "Image(value=b'\\xff\\xd8\\xff\\xe0\\x00\\x10JFIF\\x00\\x01\\x01\\x00\\x00\\x01\\x00\\x01\\x00\\x00\\xff\\xdb\\x00C\\x00\\x02\\x01\\x0…"
      ]
     },
     "metadata": {},
     "output_type": "display_data"
    },
    {
     "data": {
      "text/plain": [
       "' Data For Road Following'"
      ]
     },
     "metadata": {},
     "output_type": "display_data"
    },
    {
     "data": {
      "application/vnd.jupyter.widget-view+json": {
       "model_id": "811290e41a3944058d0d0b433b15bd36",
       "version_major": 2,
       "version_minor": 0
      },
      "text/plain": [
       "VBox(children=(HBox(children=(Button(description='move_left', layout=Layout(height='64px', width='150px'), sty…"
      ]
     },
     "metadata": {},
     "output_type": "display_data"
    },
    {
     "data": {
      "text/plain": [
       "' Data For Collision Avoidance'"
      ]
     },
     "metadata": {},
     "output_type": "display_data"
    },
    {
     "data": {
      "application/vnd.jupyter.widget-view+json": {
       "model_id": "470481feac8248ac94f06616de60be9d",
       "version_major": 2,
       "version_minor": 0
      },
      "text/plain": [
       "HBox(children=(Button(description='blocked', layout=Layout(height='64px', width='150px'), style=ButtonStyle())…"
      ]
     },
     "metadata": {},
     "output_type": "display_data"
    },
    {
     "data": {
      "text/plain": [
       "' Data For Stop at Intersection'"
      ]
     },
     "metadata": {},
     "output_type": "display_data"
    },
    {
     "data": {
      "application/vnd.jupyter.widget-view+json": {
       "model_id": "cab521c8f57d4dac9c46eb2829500f9f",
       "version_major": 2,
       "version_minor": 0
      },
      "text/plain": [
       "HBox(children=(Button(description='crosswalk', layout=Layout(height='64px', width='150px'), style=ButtonStyle(…"
      ]
     },
     "metadata": {},
     "output_type": "display_data"
    }
   ],
   "source": [
    "import os\n",
    "import uuid\n",
    "import glob\n",
    "import subprocess\n",
    "\n",
    "# these variables hold the directorie\n",
    "dataset_dir = 'dataset_lego_city/'\n",
    "\n",
    "turn_signals = ['move_left', 'move_fwd', 'move_right', 'blocked', 'free', 'crosswalk','no_crosswalk']\n",
    "\n",
    "labels = []\n",
    "for signal in turn_signals:\n",
    "        labels.append('%s' % (signal))\n",
    "\n",
    "button_layout = widgets.Layout(width='150px', height='64px')\n",
    "buttons = [widgets.Button(description=label, layout=button_layout) for label in labels]\n",
    "\n",
    "\n",
    "def get_directory(label):\n",
    "    global dataset_dir\n",
    "    if(label == 'move_left' or label == 'move_fwd' or label == 'move_right'):\n",
    "        return os.path.join(dataset_dir, 'road_follower_dataset', label)\n",
    "    if(label == 'blocked' or label == 'free'):\n",
    "        return os.path.join(dataset_dir, 'coliision_avoidance_dataset', label)\n",
    "    if(label == 'crosswalk' or label == 'no_crosswalk'):\n",
    "        return os.path.join(dataset_dir, 'crosswalk_dataset', label)\n",
    "\n",
    "# create all directories\n",
    "for label in labels:\n",
    "    subprocess.call(['mkdir', '-p', get_directory(label)])\n",
    "    \n",
    "def save_snapshot(directory):\n",
    "    image_path = os.path.join(directory, str(uuid.uuid1()) + '.jpg')\n",
    "    with open(image_path, 'wb') as f:\n",
    "        f.write(image.value)\n",
    "\n",
    "def file_count(directory):\n",
    "    return len(glob.glob(os.path.join(directory, '*')))\n",
    "\n",
    "def update_counts():\n",
    "    global buttons, labels\n",
    "    for i, label in enumerate(labels):\n",
    "        buttons[i].description = '%s: %d' % (label, file_count(get_directory(label)))\n",
    "\n",
    "def save_0(c):\n",
    "    save_snapshot(get_directory(labels[0]))\n",
    "    update_counts()\n",
    "    \n",
    "def save_1(c):\n",
    "    save_snapshot(get_directory(labels[1]))\n",
    "    update_counts()\n",
    "    \n",
    "def save_2(c):\n",
    "    save_snapshot(get_directory(labels[2]))\n",
    "    update_counts()\n",
    "    \n",
    "def save_3(c):\n",
    "    save_snapshot(get_directory(labels[3]))\n",
    "    update_counts()\n",
    "\n",
    "def save_4(c):\n",
    "    save_snapshot(get_directory(labels[4]))\n",
    "    update_counts()\n",
    "    \n",
    "def save_5(c):\n",
    "    save_snapshot(get_directory(labels[5]))\n",
    "    update_counts()\n",
    "\n",
    "def save_6(c):\n",
    "    save_snapshot(get_directory(labels[6]))\n",
    "    update_counts()\n",
    "callbacks = [save_0, save_1, save_2, save_3, save_4, save_5, save_6]\n",
    "\n",
    "for i, button in enumerate(buttons):\n",
    "    button.on_click(callbacks[i])\n",
    "    \n",
    "    \n",
    "display(image)\n",
    "display(' Data For Road Following')\n",
    "display(widgets.VBox([\n",
    "    widgets.HBox([buttons[0], buttons[1], buttons[2]])\n",
    "]))\n",
    "display(' Data For Collision Avoidance')\n",
    "display(widgets.HBox([buttons[3], buttons[4]]))\n",
    "display(' Data For Stop at Intersection')\n",
    "display(widgets.HBox([buttons[5], buttons[6]]))\n",
    "update_counts()"
   ]
  },
  {
   "cell_type": "markdown",
   "metadata": {},
   "source": [
    "Once we collect enough data for training over network, we will tar (compress) the folder to send it over \"scp\" (server copy)"
   ]
  },
  {
   "cell_type": "code",
   "execution_count": 16,
   "metadata": {},
   "outputs": [
    {
     "data": {
      "text/plain": [
       "0"
      ]
     },
     "execution_count": 16,
     "metadata": {},
     "output_type": "execute_result"
    }
   ],
   "source": [
    "import subprocess\n",
    "\n",
    "subprocess.call(['tar', '-czvf', 'dataset_lego_city.tar.gz', 'dataset_lego_city'])"
   ]
  },
  {
   "cell_type": "markdown",
   "metadata": {},
   "source": [
    "Finally, you can send newly generated .tar.gz file over scp using scp. Please follow example:\n",
    "\n",
    "Example:\n",
    "scp dataset_lego_city.tar.gz <HOST_IP_ADDR>:<HOST_DIR>"
   ]
  }
 ],
 "metadata": {
  "kernelspec": {
   "display_name": "Python 3",
   "language": "python",
   "name": "python3"
  },
  "language_info": {
   "codemirror_mode": {
    "name": "ipython",
    "version": 3
   },
   "file_extension": ".py",
   "mimetype": "text/x-python",
   "name": "python",
   "nbconvert_exporter": "python",
   "pygments_lexer": "ipython3",
   "version": "3.6.7"
  }
 },
 "nbformat": 4,
 "nbformat_minor": 2
}
