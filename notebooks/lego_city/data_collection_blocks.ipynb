{
 "cells": [
  {
   "cell_type": "code",
   "execution_count": 1,
   "metadata": {},
   "outputs": [],
   "source": [
    "import traitlets\n",
    "import os\n",
    "from jetbot import Camera, bgr8_to_jpeg\n",
    "import ipywidgets.widgets as widgets\n",
    "from IPython.display import display\n",
    "from uuid import uuid1\n",
    "import json\n",
    "import glob\n",
    "import datetime"
   ]
  },
  {
   "cell_type": "code",
   "execution_count": 2,
   "metadata": {},
   "outputs": [],
   "source": [
    "def timestr():\n",
    "    return str(datetime.datetime.now().strftime('%Y-%m-%d_%H-%M-%S'))"
   ]
  },
  {
   "cell_type": "code",
   "execution_count": 3,
   "metadata": {},
   "outputs": [
    {
     "data": {
      "application/vnd.jupyter.widget-view+json": {
       "model_id": "f36ef5b20dc5474c9822c947935e9374",
       "version_major": 2,
       "version_minor": 0
      },
      "text/plain": [
       "Image(value=b'\\xff\\xd8\\xff\\xe0\\x00\\x10JFIF\\x00\\x01\\x01\\x00\\x00\\x01\\x00\\x01\\x00\\x00\\xff\\xdb\\x00C\\x00\\x02\\x01\\x0…"
      ]
     },
     "metadata": {},
     "output_type": "display_data"
    }
   ],
   "source": [
    "camera = Camera.instance(width=224, height=224)\n",
    "\n",
    "image_widget = widgets.Image(format='jpeg', width=300, height=300)\n",
    "\n",
    "traitlets.dlink((camera, 'value'), (image_widget, 'value'), transform=bgr8_to_jpeg)\n",
    "\n",
    "display(image_widget)"
   ]
  },
  {
   "cell_type": "markdown",
   "metadata": {},
   "source": [
    "# Label the 7 block configurations"
   ]
  },
  {
   "cell_type": "code",
   "execution_count": 6,
   "metadata": {},
   "outputs": [
    {
     "data": {
      "application/vnd.jupyter.widget-view+json": {
       "model_id": "e9a81f2a380d4e49af9f00ca67ba7765",
       "version_major": 2,
       "version_minor": 0
      },
      "text/plain": [
       "HBox(children=(VBox(children=(Image(value=b'\\xff\\xd8\\xff\\xe0\\x00\\x10JFIF\\x00\\x01\\x01\\x01\\x00`\\x00`\\x00\\x00\\xff…"
      ]
     },
     "metadata": {},
     "output_type": "display_data"
    }
   ],
   "source": [
    "THUMBNAIL_DIR = 'thumbnails'\n",
    "BLOCKS_DATASET_DIR = 'dataset_blocks'\n",
    "\n",
    "class_names = [\n",
    "    'cross',\n",
    "    'left',\n",
    "    'right',\n",
    "    'straight',\n",
    "    't_left',\n",
    "    't_right',\n",
    "    't_straight'\n",
    "]\n",
    "\n",
    "\n",
    "def get_count(name):\n",
    "    return len(glob.glob(os.path.join(BLOCKS_DATASET_DIR, name, '*.jpg')))\n",
    "\n",
    "\n",
    "class Saver(object):\n",
    "    \n",
    "    def __init__(self, name, count_widget):\n",
    "        self.name = name\n",
    "        self.count_widget = count_widget\n",
    "        \n",
    "    def save(self, x):\n",
    "        image_path = os.path.join(BLOCKS_DATASET_DIR, self.name, str(uuid1()) + '.jpg')\n",
    "        with open(image_path, 'wb') as f:\n",
    "            f.write(image_widget.value)\n",
    "        self.count_widget.value = get_count(self.name)\n",
    "        \n",
    "    \n",
    "# create thumbnail widgets\n",
    "class_widgets = []\n",
    "button_widgets = []\n",
    "count_widgets = []\n",
    "for i, name in enumerate(class_names):\n",
    "    # create directory for class\n",
    "    try:\n",
    "        os.makedirs(os.path.join(BLOCKS_DATASET_DIR, name))\n",
    "    except:\n",
    "        pass\n",
    "    \n",
    "    # get thumbnail widget\n",
    "    thumbnail_widget = widgets.Image(format='jpeg', width=80, height=80)\n",
    "    thumbnail_path = os.path.join(THUMBNAIL_DIR, name + '.jpg')\n",
    "    with open(thumbnail_path, 'rb') as f:\n",
    "        thumbnail_widget.value = f.read()\n",
    "    \n",
    "    # get count widget\n",
    "    count_layout = widgets.Layout(width='80px')\n",
    "    count_widget = widgets.IntText(layout=count_layout)\n",
    "    \n",
    "    # get button\n",
    "    button_layout = widgets.Layout(width='80px', height='50px')\n",
    "    button_widget = widgets.Button(description=name, layout=button_layout)\n",
    "    \n",
    "    saver = Saver(name, count_widget)\n",
    "    \n",
    "    button_widget.on_click(saver.save)\n",
    "    \n",
    "    class_widget = widgets.VBox([\n",
    "        thumbnail_widget,\n",
    "        count_widget,\n",
    "        button_widget,\n",
    "    ])\n",
    "    class_widgets.append(class_widget)\n",
    "\n",
    "display(widgets.HBox(class_widgets))"
   ]
  },
  {
   "cell_type": "code",
   "execution_count": 7,
   "metadata": {},
   "outputs": [],
   "source": [
    "!zip -r -q lego_city_{BLOCKS_DATASET_DIR}_{timestr()}.zip {BLOCKS_DATASET_DIR}"
   ]
  }
 ],
 "metadata": {
  "kernelspec": {
   "display_name": "Python 3",
   "language": "python",
   "name": "python3"
  },
  "language_info": {
   "codemirror_mode": {
    "name": "ipython",
    "version": 3
   },
   "file_extension": ".py",
   "mimetype": "text/x-python",
   "name": "python",
   "nbconvert_exporter": "python",
   "pygments_lexer": "ipython3",
   "version": "3.6.7"
  }
 },
 "nbformat": 4,
 "nbformat_minor": 2
}
