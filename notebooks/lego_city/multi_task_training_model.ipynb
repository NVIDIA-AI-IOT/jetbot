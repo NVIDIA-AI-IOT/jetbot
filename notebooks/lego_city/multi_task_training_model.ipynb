{
 "cells": [
  {
   "cell_type": "markdown",
   "metadata": {},
   "source": [
    "# Lego City - Train Model for Multi-Task Learning"
   ]
  },
  {
   "cell_type": "markdown",
   "metadata": {},
   "source": [
    "We will be using Torch frameowrk for multi-task training the model with gathered dataset. Here we consider folliwng tasks:\n",
    "1. Road Following - 3 Classes  namely Move Forward, Move Right, and Move Left\n",
    "2. Intersection Detection- Binary Class - Intersection / No Intersection\n",
    "3. Collison Detection - Binary Class - Collision / No Collision\n",
    "\n",
    "More about Multi-task learning can be found in this quick video: https://www.youtube.com/watch?v=UdXfsAr4Gjw"
   ]
  },
  {
   "cell_type": "code",
   "execution_count": 3,
   "metadata": {},
   "outputs": [],
   "source": [
    "import torch\n",
    "import torch.optim as optim\n",
    "import torch.nn.functional as F\n",
    "import torchvision\n",
    "import torchvision.datasets as datasets\n",
    "import torchvision.models as models\n",
    "import torchvision.transforms as transforms\n",
    "import torch.nn as nn\n",
    "import numpy as np"
   ]
  },
  {
   "cell_type": "markdown",
   "metadata": {},
   "source": [
    "### Upload and extract dataset"
   ]
  },
  {
   "cell_type": "code",
   "execution_count": null,
   "metadata": {},
   "outputs": [],
   "source": [
    "!mkdir dataset && cd dataset"
   ]
  },
  {
   "cell_type": "markdown",
   "metadata": {},
   "source": [
    "Download the dataset gathered using Jetbot. We can use well-know tool to copy over server SCP.\n",
    "\n",
    "Example:\n",
    "scp jetbot@JETBOT_IP_ADDRESS:DIR_NAME/dataset_fwd_intersections.tar.gz .\n",
    "scp jetbot@JETBOT_IP_ADDRESS:DIR_NAME/dataset_collision_detection.tar.gz .\n",
    "scp jetbot@JETBOT_IP_ADDRESS:DIR_NAME/dataset_intersection_detection.tar.gz ."
   ]
  },
  {
   "cell_type": "code",
   "execution_count": 2,
   "metadata": {},
   "outputs": [],
   "source": [
    "!tar -xf dataset_fwd_intersections.tar.gz\n",
    "!tar -xf dataset_crosswalk_detection.tar.gz\n",
    "!tar -xf dataset_right_intersections.tar.gz\n",
    "!tar -xf dataset_stop_intersections.tar.gz"
   ]
  },
  {
   "cell_type": "markdown",
   "metadata": {},
   "source": [
    "You should see a folder named ``dataset`` appear in the file browser."
   ]
  },
  {
   "cell_type": "markdown",
   "metadata": {},
   "source": [
    "### Create model"
   ]
  },
  {
   "cell_type": "markdown",
   "metadata": {},
   "source": [
    "We will use pre-trained ResNet18 model to perform transfer learning. \n",
    "More about ResNet Architecture can be found here: https://arxiv.org/abs/1512.03385"
   ]
  },
  {
   "cell_type": "markdown",
   "metadata": {},
   "source": [
    "We will have 7 classes as mentioned above"
   ]
  },
  {
   "cell_type": "code",
   "execution_count": 4,
   "metadata": {},
   "outputs": [],
   "source": [
    "num_classes = 7 "
   ]
  },
  {
   "cell_type": "code",
   "execution_count": 5,
   "metadata": {},
   "outputs": [],
   "source": [
    "device = torch.device('cuda')\n",
    "model = torchvision.models.resnet18(pretrained=True)\n",
    "num_ftrs = model.fc.in_features\n",
    "model.fc = nn.Linear(num_ftrs, num_classes)\n",
    "model = model.to(device)"
   ]
  },
  {
   "cell_type": "markdown",
   "metadata": {},
   "source": [
    "### Create data loaders"
   ]
  },
  {
   "cell_type": "markdown",
   "metadata": {},
   "source": [
    "Now we use the ``ImageFolder`` dataset class available with the ``torchvision.datasets`` package.  We attach transforms from the ``torchvision.transforms`` package to prepare the data for training.  "
   ]
  },
  {
   "cell_type": "code",
   "execution_count": 6,
   "metadata": {},
   "outputs": [],
   "source": [
    "class TurnDataset(datasets.ImageFolder):\n",
    "    \n",
    "    def __init__(self, directory, flipped=False):\n",
    "        \n",
    "        self.flipped = flipped\n",
    "        \n",
    "        transforms_list = []\n",
    "        \n",
    "        transforms_list += [\n",
    "            transforms.ColorJitter(0.1, 0.1, 0.1, 0.1),\n",
    "            transforms.Resize((224, 224)),\n",
    "            transforms.ToTensor(),\n",
    "            transforms.Normalize([0.485, 0.456, 0.406], [0.229, 0.224, 0.225])\n",
    "        ]\n",
    "        \n",
    "        datasets.ImageFolder.__init__(self, directory, transforms.Compose(transforms_list))\n",
    "        \n",
    "        \n",
    "    def __getitem__(self, index):\n",
    "        image, label = datasets.ImageFolder.__getitem__(self, index)\n",
    "        image = image.numpy()\n",
    "        target = np.zeros(3, dtype=np.float32)\n",
    "        \n",
    "        # mirror image and flip left/right label\n",
    "        if self.flipped:\n",
    "            image = image[:, :, ::-1]\n",
    "            if label == 1:\n",
    "                label = 2\n",
    "            elif label == 2:\n",
    "                label = 1\n",
    "            \n",
    "        if label == 0:\n",
    "            target = np.array([0.2, 1.0, 0.2], dtype=np.float32)  # forward\n",
    "        elif label == 1:\n",
    "            target = np.array([1.0, 0.2, 0.0], dtype=np.float32)  # left\n",
    "        else:\n",
    "            target = np.array([0.0, 0.2, 1.0], dtype=np.float32)  # right\n",
    "            \n",
    "        return torch.from_numpy(image.copy()), label, torch.from_numpy(target.copy())\n",
    "\n",
    "        \n",
    "fwd_dataset = TurnDataset('data/data_googledrive/dataset_fwd_intersections')"
   ]
  },
  {
   "cell_type": "code",
   "execution_count": 7,
   "metadata": {},
   "outputs": [],
   "source": [
    "class BinaryDataset(datasets.ImageFolder):\n",
    "    \n",
    "    def __init__(self, directory, random_image_flips=False):\n",
    "        \n",
    "        transforms_list = []\n",
    "        \n",
    "        if random_image_flips:\n",
    "            transforms_list += [transforms.RandomHorizontalFlip()]\n",
    "            \n",
    "        transforms_list += [\n",
    "            transforms.ColorJitter(0.1, 0.1, 0.1, 0.1),\n",
    "            transforms.Resize((224, 224)),\n",
    "            transforms.ToTensor(),\n",
    "            transforms.Normalize([0.485, 0.456, 0.406], [0.229, 0.224, 0.225])\n",
    "        ]\n",
    "        \n",
    "        datasets.ImageFolder.__init__(self, directory, transforms.Compose(transforms_list))\n",
    "    \n",
    "    def __getitem__(self, index):\n",
    "        image, label = datasets.ImageFolder.__getitem__(self, index)\n",
    "        return image, label\n",
    "\n",
    "collision_dataset = BinaryDataset('data/data_googledrive/dataset_lego_colavoid', random_image_flips=True)\n",
    "crosswalk_dataset = BinaryDataset('data/data_googledrive/dataset_stop_intersections', random_image_flips=True)"
   ]
  },
  {
   "cell_type": "markdown",
   "metadata": {},
   "source": [
    "## Create data loaders"
   ]
  },
  {
   "cell_type": "code",
   "execution_count": 8,
   "metadata": {},
   "outputs": [],
   "source": [
    "BATCH_SIZE = 64\n",
    "\n",
    "fwd_loader = torch.utils.data.DataLoader(fwd_dataset, batch_size=BATCH_SIZE, shuffle=True, num_workers=4)\n",
    "collision_loader = torch.utils.data.DataLoader(collision_dataset, batch_size=BATCH_SIZE, shuffle=True, num_workers=4)\n",
    "crosswalk_loader = torch.utils.data.DataLoader(crosswalk_dataset, batch_size=BATCH_SIZE, shuffle=True, num_workers=4)"
   ]
  },
  {
   "cell_type": "code",
   "execution_count": 9,
   "metadata": {},
   "outputs": [],
   "source": [
    "optimizer = optim.Adam(model.parameters(), lr=0.0001)"
   ]
  },
  {
   "cell_type": "code",
   "execution_count": 10,
   "metadata": {
    "scrolled": true
   },
   "outputs": [
    {
     "name": "stdout",
     "output_type": "stream",
     "text": [
      "EPOCH 0\n",
      "TOTAL: 3.308018, F: 0.390602,, C: 0.697932, CW: 0.657076\n",
      "Best Case Loss: 3.308018\n",
      "Best Case Loss: 2.942436\n",
      "Best Case Loss: 2.510220\n",
      "Best Case Loss: 2.003645\n",
      "Best Case Loss: 1.912272\n",
      "Best Case Loss: 1.698908\n",
      "Best Case Loss: 1.440932\n",
      "Best Case Loss: 1.359648\n",
      "Best Case Loss: 1.351511\n",
      "Best Case Loss: 1.214359\n",
      "Best Case Loss: 1.181880\n",
      "Best Case Loss: 1.022359\n",
      "Best Case Loss: 1.006904\n",
      "Best Case Loss: 0.999722\n",
      "Best Case Loss: 0.825534\n",
      "TOTAL: 1.064251, F: 0.113712,, C: 0.328163, CW: 0.167528\n",
      "Best Case Loss: 0.709330\n",
      "Best Case Loss: 0.638949\n",
      "Best Case Loss: 0.628170\n",
      "Best Case Loss: 0.562988\n",
      "EPOCH 1\n",
      "Best Case Loss: 0.522294\n",
      "Best Case Loss: 0.459184\n",
      "Best Case Loss: 0.438109\n",
      "TOTAL: 0.459300, F: 0.046000,, C: 0.168569, CW: 0.060731\n",
      "Best Case Loss: 0.408545\n",
      "Best Case Loss: 0.316996\n",
      "Best Case Loss: 0.313047\n",
      "TOTAL: 0.338342, F: 0.039681,, C: 0.124430, CW: 0.015506\n",
      "EPOCH 2\n",
      "Best Case Loss: 0.272473\n",
      "Best Case Loss: 0.253775\n",
      "Best Case Loss: 0.193422\n",
      "TOTAL: 0.214805, F: 0.024602,, C: 0.082644, CW: 0.009151\n",
      "Best Case Loss: 0.132416\n",
      "EPOCH 3\n",
      "TOTAL: 0.201325, F: 0.019402,, C: 0.096779, CW: 0.007535\n",
      "TOTAL: 0.282143, F: 0.027235,, C: 0.131505, CW: 0.014463\n",
      "EPOCH 4\n",
      "Best Case Loss: 0.105809\n",
      "TOTAL: 0.217742, F: 0.024560,, C: 0.087715, CW: 0.007226\n",
      "EPOCH 5\n",
      "TOTAL: 0.123627, F: 0.020703,, C: 0.016197, CW: 0.003917\n",
      "Best Case Loss: 0.089261\n",
      "TOTAL: 0.193578, F: 0.020097,, C: 0.088819, CW: 0.004272\n",
      "EPOCH 6\n",
      "Best Case Loss: 0.078908\n",
      "TOTAL: 0.110871, F: 0.017978,, C: 0.018356, CW: 0.002627\n",
      "TOTAL: 0.088025, F: 0.014978,, C: 0.008718, CW: 0.004420\n",
      "EPOCH 7\n",
      "Best Case Loss: 0.078539\n",
      "Best Case Loss: 0.074373\n",
      "Best Case Loss: 0.070449\n",
      "TOTAL: 0.102631, F: 0.017011,, C: 0.014319, CW: 0.003256\n",
      "EPOCH 8\n",
      "TOTAL: 0.148185, F: 0.012829,, C: 0.082799, CW: 0.001238\n",
      "Best Case Loss: 0.069816\n",
      "TOTAL: 0.173606, F: 0.007331,, C: 0.131344, CW: 0.005609\n",
      "Best Case Loss: 0.059404\n",
      "EPOCH 9\n",
      "Best Case Loss: 0.047366\n",
      "TOTAL: 0.050053, F: 0.008510,, C: 0.005271, CW: 0.002231\n",
      "EPOCH 10\n",
      "TOTAL: 0.134969, F: 0.011794,, C: 0.074133, CW: 0.001868\n",
      "TOTAL: 0.082307, F: 0.015146,, C: 0.005149, CW: 0.001429\n",
      "Best Case Loss: 0.043565\n",
      "EPOCH 11\n",
      "Best Case Loss: 0.036306\n",
      "TOTAL: 0.067949, F: 0.008760,, C: 0.022929, CW: 0.001220\n",
      "TOTAL: 0.145200, F: 0.018022,, C: 0.053798, CW: 0.001292\n",
      "EPOCH 12\n",
      "TOTAL: 0.088968, F: 0.009930,, C: 0.036758, CW: 0.002560\n",
      "EPOCH 13\n",
      "TOTAL: 0.065078, F: 0.011628,, C: 0.005403, CW: 0.001534\n",
      "Best Case Loss: 0.033101\n",
      "TOTAL: 0.102313, F: 0.016609,, C: 0.018033, CW: 0.001233\n",
      "EPOCH 14\n",
      "TOTAL: 0.087972, F: 0.012710,, C: 0.023249, CW: 0.001175\n",
      "EPOCH 15\n",
      "TOTAL: 0.030795, F: 0.005603,, C: 0.002317, CW: 0.000464\n",
      "Best Case Loss: 0.030795\n",
      "TOTAL: 0.050098, F: 0.008994,, C: 0.003118, CW: 0.002008\n",
      "EPOCH 16\n",
      "TOTAL: 0.032891, F: 0.005733,, C: 0.003250, CW: 0.000977\n",
      "Best Case Loss: 0.030740\n",
      "Best Case Loss: 0.028395\n",
      "TOTAL: 0.041685, F: 0.007808,, C: 0.001960, CW: 0.000685\n",
      "EPOCH 17\n",
      "TOTAL: 0.054597, F: 0.007220,, C: 0.018186, CW: 0.000310\n",
      "Best Case Loss: 0.025225\n",
      "EPOCH 18\n",
      "TOTAL: 0.061517, F: 0.008766,, C: 0.017137, CW: 0.000552\n",
      "TOTAL: 0.073885, F: 0.013555,, C: 0.005587, CW: 0.000521\n",
      "EPOCH 19\n",
      "Best Case Loss: 0.024311\n",
      "Best Case Loss: 0.023656\n",
      "TOTAL: 0.090782, F: 0.005818,, C: 0.059455, CW: 0.002239\n",
      "EPOCH 20\n",
      "TOTAL: 0.039478, F: 0.005401,, C: 0.011956, CW: 0.000516\n",
      "TOTAL: 0.030741, F: 0.005610,, C: 0.002089, CW: 0.000600\n",
      "Best Case Loss: 0.020051\n",
      "EPOCH 21\n",
      "Best Case Loss: 0.018738\n",
      "TOTAL: 0.033309, F: 0.005392,, C: 0.005949, CW: 0.000401\n",
      "TOTAL: 0.040898, F: 0.004279,, C: 0.018974, CW: 0.000531\n",
      "EPOCH 22\n",
      "TOTAL: 0.047035, F: 0.008029,, C: 0.003866, CW: 0.003027\n",
      "EPOCH 23\n",
      "TOTAL: 0.041710, F: 0.007986,, C: 0.001512, CW: 0.000269\n",
      "Best Case Loss: 0.018020\n",
      "TOTAL: 0.037830, F: 0.007060,, C: 0.001656, CW: 0.000873\n",
      "EPOCH 24\n",
      "TOTAL: 0.024596, F: 0.004724,, C: 0.000621, CW: 0.000355\n",
      "Best Case Loss: 0.017255\n",
      "EPOCH 25\n",
      "TOTAL: 0.104209, F: 0.012397,, C: 0.038529, CW: 0.003697\n",
      "TOTAL: 0.051754, F: 0.008657,, C: 0.007912, CW: 0.000555\n",
      "EPOCH 26\n",
      "Best Case Loss: 0.015533\n",
      "TOTAL: 0.047365, F: 0.005724,, C: 0.018466, CW: 0.000281\n",
      "TOTAL: 0.063118, F: 0.011281,, C: 0.006156, CW: 0.000557\n",
      "EPOCH 27\n",
      "TOTAL: 0.048663, F: 0.004807,, C: 0.024364, CW: 0.000263\n",
      "EPOCH 28\n",
      "TOTAL: 0.062144, F: 0.007678,, C: 0.022994, CW: 0.000758\n",
      "TOTAL: 0.079970, F: 0.005922,, C: 0.049813, CW: 0.000547\n",
      "EPOCH 29\n",
      "TOTAL: 0.016892, F: 0.002784,, C: 0.002761, CW: 0.000211\n",
      "EPOCH 30\n",
      "TOTAL: 0.048557, F: 0.009139,, C: 0.002620, CW: 0.000241\n",
      "TOTAL: 0.023490, F: 0.003966,, C: 0.003360, CW: 0.000302\n",
      "EPOCH 31\n",
      "TOTAL: 0.037021, F: 0.002802,, C: 0.022790, CW: 0.000219\n",
      "TOTAL: 0.025837, F: 0.004513,, C: 0.001689, CW: 0.001584\n",
      "EPOCH 32\n",
      "Best Case Loss: 0.013158\n",
      "TOTAL: 0.061485, F: 0.010707,, C: 0.007646, CW: 0.000306\n",
      "EPOCH 33\n",
      "Best Case Loss: 0.012466\n",
      "TOTAL: 0.024737, F: 0.004586,, C: 0.001249, CW: 0.000559\n",
      "Best Case Loss: 0.011760\n",
      "TOTAL: 0.012609, F: 0.002293,, C: 0.000628, CW: 0.000518\n",
      "EPOCH 34\n",
      "TOTAL: 0.017431, F: 0.002597,, C: 0.004228, CW: 0.000218\n",
      "EPOCH 35\n",
      "TOTAL: 0.013097, F: 0.002468,, C: 0.000587, CW: 0.000168\n",
      "TOTAL: 0.017444, F: 0.002617,, C: 0.003722, CW: 0.000639\n",
      "EPOCH 36\n",
      "TOTAL: 0.043330, F: 0.002450,, C: 0.030861, CW: 0.000218\n",
      "TOTAL: 0.035930, F: 0.007094,, C: 0.000258, CW: 0.000204\n",
      "EPOCH 37\n",
      "TOTAL: 0.030393, F: 0.005766,, C: 0.001106, CW: 0.000458\n",
      "EPOCH 38\n",
      "TOTAL: 0.020529, F: 0.003945,, C: 0.000570, CW: 0.000233\n",
      "TOTAL: 0.038979, F: 0.003605,, C: 0.020741, CW: 0.000211\n",
      "EPOCH 39\n",
      "TOTAL: 0.022084, F: 0.004209,, C: 0.000430, CW: 0.000607\n",
      "EPOCH 40\n",
      "TOTAL: 0.012083, F: 0.001939,, C: 0.002176, CW: 0.000210\n",
      "TOTAL: 0.015650, F: 0.002931,, C: 0.000561, CW: 0.000432\n",
      "EPOCH 41\n",
      "TOTAL: 0.017736, F: 0.003408,, C: 0.000544, CW: 0.000152\n",
      "TOTAL: 0.024151, F: 0.004747,, C: 0.000294, CW: 0.000121\n",
      "EPOCH 42\n",
      "TOTAL: 0.021413, F: 0.003928,, C: 0.001485, CW: 0.000289\n",
      "Best Case Loss: 0.010936\n",
      "EPOCH 43\n",
      "TOTAL: 0.011715, F: 0.002209,, C: 0.000519, CW: 0.000152\n",
      "TOTAL: 0.031050, F: 0.003779,, C: 0.011916, CW: 0.000237\n",
      "EPOCH 44\n",
      "TOTAL: 0.012523, F: 0.002152,, C: 0.001503, CW: 0.000261\n",
      "Best Case Loss: 0.009540\n",
      "EPOCH 45\n",
      "TOTAL: 0.016621, F: 0.002481,, C: 0.004065, CW: 0.000149\n",
      "TOTAL: 0.021930, F: 0.003947,, C: 0.002099, CW: 0.000097\n",
      "EPOCH 46\n",
      "TOTAL: 0.017912, F: 0.003467,, C: 0.000468, CW: 0.000109\n",
      "TOTAL: 0.027992, F: 0.002441,, C: 0.015027, CW: 0.000760\n",
      "EPOCH 47\n",
      "TOTAL: 0.010820, F: 0.001929,, C: 0.000999, CW: 0.000175\n",
      "Best Case Loss: 0.009406\n",
      "EPOCH 48\n",
      "TOTAL: 0.015665, F: 0.002930,, C: 0.000909, CW: 0.000105\n",
      "TOTAL: 0.032055, F: 0.006329,, C: 0.000142, CW: 0.000270\n",
      "EPOCH 49\n",
      "TOTAL: 0.013814, F: 0.002542,, C: 0.000185, CW: 0.000919\n",
      "Best Case Loss: 0.008841\n",
      "EPOCH 50\n",
      "TOTAL: 0.011432, F: 0.002182,, C: 0.000408, CW: 0.000116\n",
      "TOTAL: 0.025671, F: 0.003621,, C: 0.007448, CW: 0.000117\n",
      "Best Case Loss: 0.008478\n",
      "Best Case Loss: 0.007908\n",
      "EPOCH 51\n",
      "TOTAL: 0.011384, F: 0.002093,, C: 0.000812, CW: 0.000109\n",
      "TOTAL: 0.020649, F: 0.002565,, C: 0.007727, CW: 0.000098\n",
      "EPOCH 52\n",
      "TOTAL: 0.016951, F: 0.002853,, C: 0.002478, CW: 0.000210\n",
      "EPOCH 53\n",
      "TOTAL: 0.019980, F: 0.003887,, C: 0.000341, CW: 0.000202\n",
      "TOTAL: 0.033650, F: 0.002541,, C: 0.020841, CW: 0.000104\n",
      "EPOCH 54\n",
      "TOTAL: 0.026787, F: 0.002396,, C: 0.014691, CW: 0.000115\n",
      "EPOCH 55\n",
      "TOTAL: 0.012998, F: 0.002482,, C: 0.000264, CW: 0.000324\n",
      "TOTAL: 0.025688, F: 0.005057,, C: 0.000285, CW: 0.000117\n",
      "EPOCH 56\n",
      "Best Case Loss: 0.007885\n",
      "TOTAL: 0.022694, F: 0.003672,, C: 0.004206, CW: 0.000129\n",
      "TOTAL: 0.015156, F: 0.002813,, C: 0.000882, CW: 0.000208\n",
      "EPOCH 57\n",
      "TOTAL: 0.050768, F: 0.002747,, C: 0.036894, CW: 0.000138\n",
      "EPOCH 58\n",
      "TOTAL: 0.021173, F: 0.004117,, C: 0.000257, CW: 0.000329\n",
      "Best Case Loss: 0.007784\n",
      "TOTAL: 0.014281, F: 0.002769,, C: 0.000211, CW: 0.000224\n",
      "EPOCH 59\n",
      "TOTAL: 0.009155, F: 0.001766,, C: 0.000206, CW: 0.000120\n"
     ]
    }
   ],
   "source": [
    "NUM_EPOCHS = 60\n",
    "BEST_MODEL_PATH = 'best_model_adam.pth'\n",
    "best_case_loss = 100000\n",
    "\n",
    "model.train()\n",
    "\n",
    "for i in range(NUM_EPOCHS):\n",
    "    \n",
    "    fwd_iter = iter(fwd_loader)\n",
    "    collision_iter = iter(collision_loader)\n",
    "    crosswalk_iter = iter(crosswalk_loader)\n",
    "    \n",
    "    print('EPOCH %d' % i)\n",
    "    \n",
    "    while True: \n",
    "        try:\n",
    "            fwd_images, fwd_labels, fwd_targets = next(fwd_iter)\n",
    "            collision_images, collision_labels = next(collision_iter)\n",
    "            crosswalk_images, crosswalk_labels = next(crosswalk_iter)\n",
    "        except StopIteration:\n",
    "            break  # this will exit the while loop if any of the iterators have finished\n",
    "        \n",
    "        optimizer.zero_grad()\n",
    "        \n",
    "        # compute road following loss\n",
    "        fwd_images = fwd_images.to(device)\n",
    "        fwd_targets = fwd_targets.to(device)\n",
    "        fwd_labels = fwd_labels.to(device)\n",
    "        fwd_outputs = model(fwd_images)[:, 0:3]\n",
    "        fwd_loss = F.mse_loss(fwd_outputs, fwd_targets)\n",
    "        \n",
    "        # compute collision loss\n",
    "        collision_images = collision_images.to(device)\n",
    "        collision_labels = collision_labels.to(device)\n",
    "        collision_outputs = model(collision_images)[:, 3:5]\n",
    "        collision_loss = F.cross_entropy(collision_outputs, collision_labels)\n",
    "        \n",
    "        # compute crosswalk loss\n",
    "        crosswalk_images = crosswalk_images.to(device)\n",
    "        crosswalk_labels = crosswalk_labels.to(device)\n",
    "        crosswalk_outputs = model(crosswalk_images)[:, 5:7]\n",
    "        crosswalk_loss = F.cross_entropy(crosswalk_outputs, crosswalk_labels)\n",
    "        \n",
    "        # Compute Total Loss\n",
    "        total_loss = 5.0 * fwd_loss + 1.0 * collision_loss + 1.0 * crosswalk_loss\n",
    "\n",
    "\n",
    "        total_loss.backward()\n",
    "        optimizer.step()\n",
    "        if total_loss < best_case_loss:\n",
    "            best_case_loss = total_loss\n",
    "            torch.save(model.state_dict(), BEST_MODEL_PATH)\n",
    "            print('TOTAL: %f, F: %f,, C: %f, CW: %f' % (total_loss, fwd_loss, collision_loss, crosswalk_loss))\n",
    "        "
   ]
  },
  {
   "cell_type": "markdown",
   "metadata": {},
   "source": [
    "## Check Performance of Trained Model "
   ]
  },
  {
   "cell_type": "markdown",
   "metadata": {},
   "source": [
    "Once we complete Training the mulit-task learning, we can check accuracy performance on one of the image newly gathered or from previously gathered dataset."
   ]
  },
  {
   "cell_type": "code",
   "execution_count": 12,
   "metadata": {},
   "outputs": [],
   "source": [
    "import matplotlib.pyplot as plt"
   ]
  },
  {
   "cell_type": "code",
   "execution_count": 13,
   "metadata": {},
   "outputs": [],
   "source": [
    "model.load_state_dict(torch.load('best_model_adam.pth'))\n",
    "model = model.eval()"
   ]
  },
  {
   "cell_type": "markdown",
   "metadata": {},
   "source": [
    "Output labels can be understood as follows:\n",
    "1. Road Follower : fwd_dataset.class_to_idx\n",
    "2. Collision Detection: collision_dataset.class_to_idx\n",
    "3. Crosswalk Detection: crosswalk_dataset.class_to_idx"
   ]
  },
  {
   "cell_type": "code",
   "execution_count": 14,
   "metadata": {},
   "outputs": [
    {
     "name": "stdout",
     "output_type": "stream",
     "text": [
      "[{'move_left': 1, 'move_right': 2, 'move_fwd': 0}, {'free': 1, 'blocked': 0}, {'intersection': 0, 'no_intersection': 1}]\n"
     ]
    }
   ],
   "source": [
    "output_labels = [ fwd_dataset.class_to_idx, collision_dataset.class_to_idx, crosswalk_dataset.class_to_idx]\n",
    "print (output_labels)"
   ]
  },
  {
   "cell_type": "code",
   "execution_count": 16,
   "metadata": {},
   "outputs": [
    {
     "name": "stderr",
     "output_type": "stream",
     "text": [
      "Clipping input data to the valid range for imshow with RGB data ([0..1] for floats or [0..255] for integers).\n"
     ]
    },
    {
     "name": "stdout",
     "output_type": "stream",
     "text": [
      "tensor([[ 0.8540,  0.2976,  0.1453,  5.4474, -5.9082, -2.5940,  3.0200]],\n",
      "       device='cuda:0', grad_fn=<AddmmBackward>)\n",
      "0\n"
     ]
    },
    {
     "data": {
      "image/png": "[encoded data removed]",
      "text/plain": [
       "<Figure size 432x288 with 1 Axes>"
      ]
     },
     "metadata": {
      "needs_background": "light"
     },
     "output_type": "display_data"
    }
   ],
   "source": [
    "image, label = collision_dataset[90]\n",
    "\n",
    "output = model(image.to(device)[None, ...])\n",
    "\n",
    "\n",
    "image = image.cpu().numpy().transpose(1, 2, 0)\n",
    "\n",
    "plt.imshow(image)\n",
    "\n",
    "print(output)\n",
    "print(label)"
   ]
  },
  {
   "cell_type": "markdown",
   "metadata": {},
   "source": [
    "## Copy Trained Model to JetBot"
   ]
  },
  {
   "cell_type": "markdown",
   "metadata": {},
   "source": [
    "If the visual performance is good, copy \"BEST_MODEL_PATH = 'best_model_adam.pth'\" to JetBot\n",
    "\n",
    "Example:\n",
    "scp best_model_adam.pth jetbot@JETBOT_IP_ADDRESS:DIR_NAME"
   ]
  }
 ],
 "metadata": {
  "kernelspec": {
   "display_name": "Python 3",
   "language": "python",
   "name": "python3"
  },
  "language_info": {
   "codemirror_mode": {
    "name": "ipython",
    "version": 3
   },
   "file_extension": ".py",
   "mimetype": "text/x-python",
   "name": "python",
   "nbconvert_exporter": "python",
   "pygments_lexer": "ipython3",
   "version": "3.5.2"
  }
 },
 "nbformat": 4,
 "nbformat_minor": 2
}
